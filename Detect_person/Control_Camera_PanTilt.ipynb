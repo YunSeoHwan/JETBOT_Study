{
 "cells": [
  {
   "cell_type": "code",
   "execution_count": 1,
   "metadata": {},
   "outputs": [],
   "source": [
    "from jetbot import Camera\n",
    "from jetbot import bgr8_to_jpeg\n",
    "\n",
    "camera = Camera.instance(width=720, height=720) # 720x720 픽셀 이미지 사용"
   ]
  },
  {
   "cell_type": "code",
   "execution_count": 2,
   "metadata": {},
   "outputs": [
    {
     "data": {
      "text/plain": [
       "256"
      ]
     },
     "execution_count": 2,
     "metadata": {},
     "output_type": "execute_result"
    }
   ],
   "source": [
    "import os\n",
    "\n",
    "os.system(\"sudo chmod 777 /dev/ttyTHS1\")"
   ]
  },
  {
   "cell_type": "code",
   "execution_count": 4,
   "metadata": {},
   "outputs": [
    {
     "name": "stdout",
     "output_type": "stream",
     "text": [
      "serial Open!\n",
      "161\n",
      "b'\\xff\\xff\\x02\\x07\\x03*\\x0e\\x10\\x00\\n\\xa1'\n"
     ]
    }
   ],
   "source": [
    "from servoserial import ServoSerial\n",
    "import time\n",
    "\n",
    "pantilt = ServoSerial()\n",
    "\n",
    "pantilt.Servo_serial_control(2, 3600) # 36 중앙값\n",
    "time.sleep(5)"
   ]
  },
  {
   "cell_type": "code",
   "execution_count": 5,
   "metadata": {},
   "outputs": [],
   "source": [
    "global face_x, face_y, face_w, face_h\n",
    "face_x = face_y = face_w = face_h = 0\n"
   ]
  },
  {
   "cell_type": "code",
   "execution_count": 6,
   "metadata": {},
   "outputs": [
    {
     "data": {
      "application/vnd.jupyter.widget-view+json": {
       "model_id": "fe2e702a6dbb410cbdf69583bad46d81",
       "version_major": 2,
       "version_minor": 0
      },
      "text/plain": [
       "Image(value=b'', format='jpeg', height='300', width='300')"
      ]
     },
     "metadata": {},
     "output_type": "display_data"
    }
   ],
   "source": [
    "import traitlets\n",
    "import ipywidgets.widgets as widgets\n",
    "from IPython.display import display\n",
    "\n",
    "face_image = widgets.Image(format='jpeg', width=300, height=300) # 프리뷰 화면은 300x300 픽셀 크기로\n",
    "display(face_image)"
   ]
  },
  {
   "cell_type": "code",
   "execution_count": 7,
   "metadata": {},
   "outputs": [],
   "source": [
    "import cv2\n",
    "\n",
    "face_cascade = cv2.CascadeClassifier('haarcascade_frontalface_default.xml')\n",
    "eye_cascade = cv2.CascadeClassifier('haarcascade_eye.xml')"
   ]
  },
  {
   "cell_type": "code",
   "execution_count": null,
   "metadata": {},
   "outputs": [],
   "source": [
    "while 1:\n",
    "    frame = camera.value\n",
    "    frame = cv2.resize(frame, (300, 300)) # 이미지를 학습 데이터와 동일한 크기로 변환\n",
    "    gray = cv2.cvtColor(frame, cv2.COLOR_BGR2GRAY) # 흑백 이미지로 변환하여 검출에 사용\n",
    "    \n",
    "    faces = face_cascade.detectMultiScale(gray) # 이미지 내에서 얼굴을 검출\n",
    "    \n",
    "    if len(faces) > 0: # 검출된 내용이 있으면\n",
    "        (face_x, face_y, face_w, face_h) = faces[0] # 좌표와  크기\n",
    "        \n",
    "        # 검출 영역을 사각 박스로 표시합니다.\n",
    "        cv2.rectangle(frame, (face_x, face_y), (face_x+face_h, face_y+face_w), (0,255,0), 4)\n",
    "        \n",
    "        # 눈 검출은 얼굴이 검출된 영역 내부에서만 진행하기 위해 ROI를 생성합니다.\n",
    "        roi_gray = gray[face_y:face_y+face_h, face_x:face_x+face_w]\n",
    "        roi_color = frame[face_y:face_y+face_h, face_x:face_x+face_w]\n",
    "        \n",
    "        # 얼굴 안에서 눈을 검출합니다.\n",
    "        eyes = eye_cascade.detectMultiScale(roi_gray)\n",
    "        \n",
    "        # 눈이 검출되었다면 눈 위치에 대한 좌표 정보를 리턴받습니다.\n",
    "        for (ex, ey, ew, eh) in eyes:\n",
    "            \n",
    "            # 원본 이미지에 눈의 위치를 표시합니다. (roi_color에 표시하면 원본 이미지에도 표시용)\n",
    "            cv2.rectangle(roi_color, (ex,ey), (ex+ew, ey+eh), (255,0,0), 2)\n",
    "            \n",
    "    # 결과 이미지를 프리뷰 위젯에 표시\n",
    "    face_image.value = bgr8_to_jpeg(frame)\n",
    "    \n",
    "    # 눈 검출은 얼굴이 검출된 영역 내부에서만 진행하기 위해 ROI를 생성합니다.\n",
    "    roi_gray = gray[face_y:face_y+face_h, face_x:face_x+face_w]\n",
    "    roi_color = frame[face_y:face_y+face_h, face_x:face_x+face_w]\n",
    "    "
   ]
  },
  {
   "cell_type": "code",
   "execution_count": 136,
   "metadata": {},
   "outputs": [],
   "source": [
    "# 팬/틸트 각도를 제어하는 함수\n",
    "def MovePanTilt(pan, tilt):\n",
    "    pantilt.Servo_serial_double_control(1, pan, 2, tilt)\n",
    "    "
   ]
  },
  {
   "cell_type": "code",
   "execution_count": 141,
   "metadata": {},
   "outputs": [],
   "source": [
    "# MID_TILT = 3600\n",
    "# TILT 범위 3000~4095\n",
    "MID_PAN = 4095 // 2 + 100\n",
    "\n",
    "DEF_TILT = 4000"
   ]
  },
  {
   "cell_type": "code",
   "execution_count": 142,
   "metadata": {},
   "outputs": [
    {
     "name": "stdout",
     "output_type": "stream",
     "text": [
      "178\n",
      "b'\\xff\\xff\\xfe\\x0e\\x83*\\x04\\x01\\x08c\\x00\\n\\x02\\x0f\\xff\\x00\\n\\xb2'\n",
      "62\n",
      "b'\\xff\\xff\\xfe\\x0e\\x83*\\x04\\x01\\x08c\\x00\\n\\x02\\x0et\\x00\\n>'\n",
      "178\n",
      "b'\\xff\\xff\\xfe\\x0e\\x83*\\x04\\x01\\x08c\\x00\\n\\x02\\x0f\\xff\\x00\\n\\xb2'\n",
      "62\n",
      "b'\\xff\\xff\\xfe\\x0e\\x83*\\x04\\x01\\x08c\\x00\\n\\x02\\x0et\\x00\\n>'\n",
      "178\n",
      "b'\\xff\\xff\\xfe\\x0e\\x83*\\x04\\x01\\x08c\\x00\\n\\x02\\x0f\\xff\\x00\\n\\xb2'\n",
      "62\n",
      "b'\\xff\\xff\\xfe\\x0e\\x83*\\x04\\x01\\x08c\\x00\\n\\x02\\x0et\\x00\\n>'\n",
      "17\n",
      "b'\\xff\\xff\\xfe\\x0e\\x83*\\x04\\x01\\x08c\\x00\\n\\x02\\x0f\\xa0\\x00\\n\\x11'\n"
     ]
    }
   ],
   "source": [
    "# 위 아래로 흔들기 3번 반복\n",
    "for i in range(0, 3):\n",
    "    MovePanTilt(MID_PAN, DEF_TILT+300)\n",
    "    time.sleep(0.2)\n",
    "    MovePanTilt(MID_PAN, DEF_TILT-300)\n",
    "    time.sleep(0.2)\n",
    "    \n",
    "MovePanTilt(MID_PAN, 4000) # 기본 위치\n",
    "time.sleep(1)"
   ]
  },
  {
   "cell_type": "code",
   "execution_count": 77,
   "metadata": {},
   "outputs": [
    {
     "name": "stdout",
     "output_type": "stream",
     "text": [
      "228\n",
      "b'\\xff\\xff\\xfe\\x0e\\x83*\\x04\\x01\\t\\x8f\\x00\\n\\x02\\x0f\\xa0\\x00\\n\\xe4'\n",
      "62\n",
      "b'\\xff\\xff\\xfe\\x0e\\x83*\\x04\\x01\\x077\\x00\\n\\x02\\x0f\\xa0\\x00\\n>'\n",
      "228\n",
      "b'\\xff\\xff\\xfe\\x0e\\x83*\\x04\\x01\\t\\x8f\\x00\\n\\x02\\x0f\\xa0\\x00\\n\\xe4'\n",
      "62\n",
      "b'\\xff\\xff\\xfe\\x0e\\x83*\\x04\\x01\\x077\\x00\\n\\x02\\x0f\\xa0\\x00\\n>'\n",
      "228\n",
      "b'\\xff\\xff\\xfe\\x0e\\x83*\\x04\\x01\\t\\x8f\\x00\\n\\x02\\x0f\\xa0\\x00\\n\\xe4'\n",
      "62\n",
      "b'\\xff\\xff\\xfe\\x0e\\x83*\\x04\\x01\\x077\\x00\\n\\x02\\x0f\\xa0\\x00\\n>'\n",
      "17\n",
      "b'\\xff\\xff\\xfe\\x0e\\x83*\\x04\\x01\\x08c\\x00\\n\\x02\\x0f\\xa0\\x00\\n\\x11'\n"
     ]
    }
   ],
   "source": [
    "# 좌우로 흔들기 3번 반복\n",
    "for i in range(0, 3):\n",
    "    MovePanTilt(MID_PAN+300, DEF_TILT)\n",
    "    time.sleep(0.2)\n",
    "    MovePanTilt(MID_PAN-300, DEF_TILT)\n",
    "    time.sleep(0.2)\n",
    "    \n",
    "MovePanTilt(MID_PAN, DEF_TILT) # 기본 위치\n",
    "time.sleep(1)"
   ]
  }
 ],
 "metadata": {
  "kernelspec": {
   "display_name": "Python 3",
   "language": "python",
   "name": "python3"
  },
  "language_info": {
   "codemirror_mode": {
    "name": "ipython",
    "version": 3
   },
   "file_extension": ".py",
   "mimetype": "text/x-python",
   "name": "python",
   "nbconvert_exporter": "python",
   "pygments_lexer": "ipython3",
   "version": "3.6.9"
  }
 },
 "nbformat": 4,
 "nbformat_minor": 4
}
