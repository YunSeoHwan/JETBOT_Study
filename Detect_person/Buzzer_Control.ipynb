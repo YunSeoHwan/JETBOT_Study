{
 "cells": [
  {
   "cell_type": "code",
   "execution_count": 1,
   "metadata": {},
   "outputs": [
    {
     "data": {
      "text/plain": [
       "256"
      ]
     },
     "execution_count": 1,
     "metadata": {},
     "output_type": "execute_result"
    }
   ],
   "source": [
    "import os\n",
    "os.system(\"sudo chmod 777 '/dev/ttyTHS1'\")\n"
   ]
  },
  {
   "cell_type": "code",
   "execution_count": 3,
   "metadata": {},
   "outputs": [
    {
     "name": "stderr",
     "output_type": "stream",
     "text": [
      "/usr/local/lib/python3.6/dist-packages/Jetson/GPIO/gpio.py:352: RuntimeWarning: This channel is already in use, continuing anyway. Use GPIO.setwarnings(False) to disable warnings\n",
      "  RuntimeWarning)\n"
     ]
    }
   ],
   "source": [
    "import RPi.GPIO as GPIO\n",
    "\n",
    "BEEP_pin = 6 # Buzzer 핀 번호\n",
    "\n",
    "GPIO.setmode(GPIO.BCM) # 보드 핀 번호 방식\n",
    "GPIO.setup(BEEP_pin, GPIO.OUT, initial = GPIO.LOW) # 초기상태 = 끄기\n"
   ]
  },
  {
   "cell_type": "code",
   "execution_count": 7,
   "metadata": {},
   "outputs": [],
   "source": [
    "import time\n",
    "GPIO.output(BEEP_pin, GPIO.HIGH) # 부저 켜기\n",
    "time.sleep(0.1) # 소리내는 시간 = 0.1초\n",
    "GPIO.output(BEEP_pin, GPIO.LOW) # 부저 끄기\n",
    "\n",
    "time.sleep(1) # 1초 대기"
   ]
  },
  {
   "cell_type": "code",
   "execution_count": 5,
   "metadata": {},
   "outputs": [],
   "source": [
    "### 지정 시간 동안 부저음 울리기 함수\n",
    "\n",
    "def Beep(beepTime):\n",
    "    GPIO.output(BEEP_pin, GPIO.HIGH) # 부저 켜기\n",
    "    time.sleep(beepTime) # 소리내는 시간\n",
    "    GPIO.output(BEEP_pin, GPIO.LOW) # 부저 끄기\n",
    "    "
   ]
  },
  {
   "cell_type": "code",
   "execution_count": 8,
   "metadata": {},
   "outputs": [],
   "source": [
    "# 부저 울리기 함수를 3번 호출\n",
    "for i in range(0, 3):\n",
    "    Beep(0.1)\n",
    "    time.sleep(0.5)"
   ]
  },
  {
   "cell_type": "code",
   "execution_count": null,
   "metadata": {},
   "outputs": [],
   "source": []
  }
 ],
 "metadata": {
  "kernelspec": {
   "display_name": "Python 3",
   "language": "python",
   "name": "python3"
  },
  "language_info": {
   "codemirror_mode": {
    "name": "ipython",
    "version": 3
   },
   "file_extension": ".py",
   "mimetype": "text/x-python",
   "name": "python",
   "nbconvert_exporter": "python",
   "pygments_lexer": "ipython3",
   "version": "3.6.9"
  }
 },
 "nbformat": 4,
 "nbformat_minor": 4
}
