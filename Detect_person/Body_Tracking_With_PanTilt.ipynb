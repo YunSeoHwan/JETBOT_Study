{
 "cells": [
  {
   "cell_type": "code",
   "execution_count": null,
   "metadata": {},
   "outputs": [],
   "source": [
    "from jetbot import Camera\n",
    "from jetbot import bgr8_to_jpeg\n",
    "import PID\n",
    "\n",
    "camera = Camera.instance(width=720, height=720)"
   ]
  },
  {
   "cell_type": "code",
   "execution_count": null,
   "metadata": {},
   "outputs": [],
   "source": [
    "global body_x, body_y, body_w, body_h\n",
    "body_x = body_y = body_w = body_h = 0\n",
    "\n",
    "global target_valuex\n",
    "target_valuex = 2048\n",
    "\n",
    "global target_valuey\n",
    "target_valuey = 2048"
   ]
  },
  {
   "cell_type": "code",
   "execution_count": null,
   "metadata": {},
   "outputs": [],
   "source": [
    "xservo_pid = PID.PositionalPID(1.9, 0.3, 0.35)\n",
    "yservo_pid = PID.PositionalPID(1.5, 0.2, 0.3)"
   ]
  },
  {
   "cell_type": "code",
   "execution_count": null,
   "metadata": {},
   "outputs": [],
   "source": [
    "from servoserial import ServoSerial\n",
    "\n",
    "servo_device = ServoSerial()"
   ]
  },
  {
   "cell_type": "code",
   "execution_count": null,
   "metadata": {},
   "outputs": [],
   "source": [
    "import traitlets\n",
    "import ipywidgets.widgets as widgets\n",
    "from IPython.display import display\n",
    "\n",
    "body_image = widgets.Image(format='jpeg', width=300, height=300)\n",
    "display(body_image)"
   ]
  },
  {
   "cell_type": "code",
   "execution_count": null,
   "metadata": {},
   "outputs": [],
   "source": [
    "import cv2\n",
    "\n",
    "body_cascade = cv2.CascadeClassifier('haarcascade_frontalface_default.xml')"
   ]
  },
  {
   "cell_type": "code",
   "execution_count": null,
   "metadata": {},
   "outputs": [],
   "source": [
    "while 1:\n",
    "    frame = camera.value\n",
    "    frame = cv2.resize(frame, (300, 300))\n",
    "    \n",
    "    gray = cv2.cvtColor(frame, cv2.COLOR_BGR2GRAY)\n",
    "    bodies = body_cascade.detectMultiScale( gray )\n",
    "    \n",
    "    if len(bodies) > 0:\n",
    "        (body_x, body_y, body_w, body_h) = bodies[0]\n",
    "        \n",
    "        # 인식된 Body(Face) 테두리 박스 그리기\n",
    "        cv2.rectangle(frame, (body_x, body_y), (body_x+body_h, body_y+body_w), (0,255,0), 2)\n",
    "        \n",
    "        # PID(Proportional-Integration-Differentiation) 알고리즘 적용에 의한 카메라 방향 제어\n",
    "        \n",
    "        # X축 오프셋을 PID 컨트롤에 입력\n",
    "        xservo_pid.SystemOutput = body_x + body_h/2 # X축 중심점\n",
    "        xservo_pid.SetStepSignal(150)\n",
    "        xservo_pid.SetInertiaTime(0.01, 0.006)\n",
    "        target_valuex = int(2048 + xservo_pid.SystemOutput)\n",
    "        \n",
    "        # Y축 오프세승ㄹ PID 컨트롤에 입력\n",
    "        yservo_pid.SystemOutput = body_y + body_w/2 # X축 중심점\n",
    "        yservo_pid.SetStepSignal(150)\n",
    "        yservo_pid.SetInertiaTime(0.01, 0.006)\n",
    "        target_valuey = int(2048 + yservo_pid.SystemOutput)\n",
    "        \n",
    "        # PID 조정 위치로 카메라 팬/틸트 서보를 움직임 (1= 팬, 2= 틸트)\n",
    "        servo_device.Servo_serial_double_control(1, target_valuex, 2, target_valuey)\n",
    "        \n",
    "    # 이전에 생성한 카메라 프리뷰 위젯에 결과 이미지를 보임\n",
    "    body_image.value = bgr8_to_jpeg(frame)"
   ]
  }
 ],
 "metadata": {
  "kernelspec": {
   "display_name": "Python 3",
   "language": "python",
   "name": "python3"
  },
  "language_info": {
   "codemirror_mode": {
    "name": "ipython",
    "version": 3
   },
   "file_extension": ".py",
   "mimetype": "text/x-python",
   "name": "python",
   "nbconvert_exporter": "python",
   "pygments_lexer": "ipython3",
   "version": "3.6.9"
  }
 },
 "nbformat": 4,
 "nbformat_minor": 4
}
