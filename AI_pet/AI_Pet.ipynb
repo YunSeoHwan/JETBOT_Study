{
 "cells": [
  {
   "cell_type": "markdown",
   "metadata": {},
   "source": [
    "### 디버깅 또는 실행 속도 모드 설정\n",
    "0 = debug(가장 느림), 1 = normal run, 2 = run fast, 3 = without camera view(가장 빠름)"
   ]
  },
  {
   "cell_type": "code",
   "execution_count": 1,
   "metadata": {},
   "outputs": [],
   "source": [
    "runMode = 3"
   ]
  },
  {
   "cell_type": "markdown",
   "metadata": {},
   "source": [
    "### OLED 디스플레이 (Adafruit OLED, SSD1306, 128 x 32)"
   ]
  },
  {
   "cell_type": "code",
   "execution_count": 2,
   "metadata": {},
   "outputs": [],
   "source": [
    "import Adafruit_SSD1306\n",
    "from PIL import Image\n",
    "from PIL import ImageDraw\n",
    "from PIL import ImageFont\n",
    "\n",
    "from jetbot.utils.utils import get_ip_address\n",
    "import subprocess\n",
    "import time"
   ]
  },
  {
   "cell_type": "markdown",
   "metadata": {},
   "source": [
    "##### OLED-SSD1306 초기화"
   ]
  },
  {
   "cell_type": "code",
   "execution_count": 3,
   "metadata": {},
   "outputs": [],
   "source": [
    "# 하드웨어 I2C 방식의 128x32 display\n",
    "# gpio는 OLED 디바이스 인식문제 해결을 위해 1로 설정\n",
    "disp = Adafruit_SSD1306.SSD1306_128_32(rst=None, i2c_bus=0, gpio=1)\n",
    "\n",
    "# 디스플레이 초기화\n",
    "disp.begin()\n",
    "\n",
    "# 화면 클리어\n",
    "disp.clear()\n",
    "disp.display()\n",
    "\n",
    "# 디스플레이 이미지 생성, 흑백(1-bit) 이미지 사용\n",
    "disp_image = Image.new('1', (disp.width, disp.height))\n",
    "\n",
    "# 이미지에 그릴 드로잉 객체 얻기\n",
    "screen = ImageDraw.Draw(disp_image)\n",
    "\n",
    "# 화면 전체를 검은색으로 채워서 지우기\n",
    "screen.rectangle((0, 0, disp.width, disp.height), outline=0, fill=0)\n",
    "\n",
    "# 화면 패딩영역 위치 조정(글씨가 짤리지 않도록)\n",
    "screen_padding = 2\n",
    "screen_top = screen_padding\n",
    "screen_bottom = disp.height - screen_padding\n",
    "screen_x = 0\n",
    "\n",
    "# 기본 서체 사용\n",
    "font = ImageFont.load_default()"
   ]
  },
  {
   "cell_type": "markdown",
   "metadata": {},
   "source": [
    "##### OLED 화면에 기본 정보 디스플레이"
   ]
  },
  {
   "cell_type": "code",
   "execution_count": 4,
   "metadata": {},
   "outputs": [],
   "source": [
    "### OLED 화면에 시스템 정보 4줄을 보여주는 함수\n",
    "\n",
    "def ShowInfo(strInfo):\n",
    "    # 화면 전체를 검은색으로 채워서 지우기\n",
    "    screen.rectangle((0, 0, disp.width, disp.height), outline=0, fill=0)\n",
    "    \n",
    "    # 화면 맨 위의 첫번째 줄에는 매개변수로 넘겨받은 문자열을 디스플레이\n",
    "    screen.text((screen_x, screen_top+0), strInfo, font=font, fill=255)\n",
    "    \n",
    "    # 두번째 줄에는 젯봇의 IP Address를 디스플레이\n",
    "    screen.text((screen_x, screen_top+8), \"IP:\" + str(get_ip_address('wlan0')), font=font, fill=255)\n",
    "    \n",
    "    # 세번째 줄에는 메모리 사용 상태를 디스플레이\n",
    "    cmd = \"free -m | awk 'NR==2{printf \\\"Mem:%s/%sM %.2f%%\\\", $3, $2, $3*100/$2 }'\"\n",
    "    MemUsage = subprocess.check_output(cmd, shell = True)\n",
    "    screen.text((screen_x, screen_top+16), str(MemUsage.decode('utf-8')), font=font, fill=255)\n",
    "    \n",
    "    # 네번째 줄에는 디스크 사용 상태를 디스플레이\n",
    "    cmd = \"df -h | awk '$NF==\\\"/\\\"{printf \\\"Disk:%d/%dGB %s\\\", $3, $2, $5}'\"\n",
    "    Disk = subprocess.check_output(cmd, shell = True)\n",
    "    screen.text((screen_x, screen_top+25), str(Disk.decode('utf-8')), font=font, fill=255)\n",
    "    \n",
    "    # 설정한 내용을 OLED 화면으로 출력\n",
    "    disp.image(disp_image)\n",
    "    disp.display()\n",
    "    \n",
    "# 맨 위의 1번째 줄에 텍스트를 디스플레이 하는 함수\n",
    "def ShowTopInfo(strInfo):\n",
    "    screen.rectangle((0, 0, disp.width, 7), outline=0, fill=0)\n",
    "    screen.text((screen_x, screen_top), strInfo, font=font, fill=255)\n",
    "    disp.image(disp_image)\n",
    "    disp.display()\n",
    "    \n",
    "if runMode < 2:\n",
    "    ShowInfo(\"Init...\")"
   ]
  },
  {
   "cell_type": "code",
   "execution_count": 5,
   "metadata": {},
   "outputs": [],
   "source": [
    "ShowInfo('hello')"
   ]
  },
  {
   "cell_type": "markdown",
   "metadata": {},
   "source": [
    "### RGB Strip LED 생성\n",
    "젯봇 좌우의 무한궤도 캐터필러 안쪽에 장착되어 있는 5x2 LED 제어"
   ]
  },
  {
   "cell_type": "code",
   "execution_count": 6,
   "metadata": {},
   "outputs": [],
   "source": [
    "from RGB_Lib import Programing_RGB\n",
    "RGB = Programing_RGB()"
   ]
  },
  {
   "cell_type": "markdown",
   "metadata": {},
   "source": [
    "#### 개별 1개 LED 또는 전체 LED 색상 설정\n",
    "\n",
    "##### LED는 인덱스가 0번부터 9번까지 전부 10개\n",
    "##### 오른쪽: 뒤쪽[0] > [1] > [2] > [3] > 앞쪽[4] / 왼쪽: 뒤쪽[5] > [6] > [7] > [8] > 앞쪽[9]\n",
    "##### 뒷 페이지의 순차흐름, 무지개, 숨쉬기 LED Show는 생략"
   ]
  },
  {
   "cell_type": "code",
   "execution_count": 20,
   "metadata": {},
   "outputs": [],
   "source": [
    "# if runMode < 2:\n",
    "#     RGB.Set_An_RGB(0, 0xFF, 0x00, 0x00) # 0번째 LED (우측 뒤쪽) 빨강\n",
    "#     RGB.Set_An_RGB(4, 0x00, 0xFF, 0x00) # 0번째 LED (우측 앞쪽) 초록\n",
    "#     RGB.Set_An_RGB(5, 0x00, 0x00, 0xFF) # 0번째 LED (좌측 뒤쪽) 파랑\n",
    "#     RGB.Set_An_RGB(9, 0xFF, 0xFF, 0xFF) # 0번째 LED (좌측 앞쪽) 흰색\n",
    "\n",
    "#     RGB.Set_All_RGB(0xFF, 0x00, 0x00) # 전체 LED 색상을 설정\n",
    "#     time.sleep(0.5)\n",
    "#     RGB.Set_All_RGB(0x00, 0xFF, 0x00) # 전체 LED 색상을 설정\n",
    "#     time.sleep(0.5)\n",
    "#     RGB.Set_All_RGB(0x00, 0x00, 0xFF) # 전체 LED 색상을 설정\n",
    "#     time.sleep(0.5)\n",
    "    \n",
    "# RGB.OFF_ALL_RGB() # 전체 LED 끄기\n",
    "# time.sleep(1)\n"
   ]
  },
  {
   "cell_type": "markdown",
   "metadata": {},
   "source": [
    "### I/O 제어: 부저, 버튼, 단색 LED"
   ]
  },
  {
   "cell_type": "code",
   "execution_count": 7,
   "metadata": {},
   "outputs": [
    {
     "name": "stderr",
     "output_type": "stream",
     "text": [
      "/usr/local/lib/python3.6/dist-packages/Jetson/GPIO/gpio.py:352: RuntimeWarning: This channel is already in use, continuing anyway. Use GPIO.setwarnings(False) to disable warnings\n",
      "  RuntimeWarning)\n"
     ]
    }
   ],
   "source": [
    "import RPi.GPIO as GPIO\n",
    "\n",
    "BEEP_pin = 6 # Buzzer 핀 번호\n",
    "\n",
    "GREEN_pin = 24 # BOARD pin 24, GREEN (LED2)\n",
    "BLUE_pin = 23 # BOARD pin 23, Blue (LED3)\n",
    "\n",
    "KEY1_pin = 8 # BOARD pin 8, K1 버튼\n",
    "KEY2_pin = 7 # BOARD pin 7, K2 버튼\n",
    "\n",
    "SW_UP_pin = 17 # Camera Lifter 상단 Limit Switch\n",
    "SW_DOWN_pin = 18 # Camera Lifter 하단 limit Switch\n",
    "\n",
    "GPIO.setmode(GPIO.BCM) # 보드 핀 번호 방식\n",
    "\n",
    "GPIO.setup(BEEP_pin, GPIO.OUT, initial=GPIO.LOW) # 초기설정 = 끄기\n",
    "\n",
    "GPIO.setup(GREEN_pin, GPIO.OUT) # 초록 LED Pin set as output\n",
    "GPIO.setup(BLUE_pin, GPIO.OUT) # 파랑 LED Pin set as output\n",
    "\n",
    "GPIO.setup(KEY1_pin, GPIO.OUT) # KEY1 버튼 Pin set as output\n",
    "GPIO.setup(KEY2_pin, GPIO.OUT) # KEY2 버튼 Pin set as output"
   ]
  },
  {
   "cell_type": "code",
   "execution_count": 8,
   "metadata": {},
   "outputs": [],
   "source": [
    "### 지정 시간 동안 부저음 울리기\n",
    "def Beep(beepTime):\n",
    "    GPIO.output(BEEP_pin, GPIO.HIGH) # 부저 켜기\n",
    "    time.sleep(beepTime) # 소리 내는 시간\n",
    "    GPIO.output(BEEP_pin, GPIO.LOW) # 부저 끄기\n",
    "    \n",
    "### 보드상의 초록 LED on/off\n",
    "def OnOffGreen(bOn):\n",
    "    if bOn:\n",
    "        GPIO.output(GREEN_pin, GPIO.LOW) # GREEN LED 켜기\n",
    "    else:\n",
    "        GPIO.output(GREEN_pin, GPIO.HIGH) # GREEN LED 켜기\n",
    "                    \n",
    "### 보드상의 파랑 LED on/off\n",
    "def OnOffBlue(bOn):\n",
    "    if bOn:\n",
    "        GPIO.output(BLUE_pin, GPIO.LOW) # BLUE LED 켜기\n",
    "    else:\n",
    "        GPIO.output(BLUE_pin, GPIO.HIGH) # BLUE LED 켜기\n",
    "                    \n"
   ]
  },
  {
   "cell_type": "code",
   "execution_count": 9,
   "metadata": {},
   "outputs": [],
   "source": [
    "OnOffGreen(1)\n",
    "OnOffBlue(1)\n",
    "Beep(1)"
   ]
  },
  {
   "cell_type": "code",
   "execution_count": 12,
   "metadata": {},
   "outputs": [],
   "source": [
    "# 기둥 위아래로 moving\n",
    "\n",
    "from jetbot import Robot\n",
    "robot = Robot()\n",
    "\n",
    "OnOffGreen(1)\n",
    "OnOffBlue(1)\n",
    "\n",
    "value = GPIO.input(KEY1_pin) # GPIO.LOW or GPIO.HIGH\n",
    "value = GPIO.input(KEY2_pin) # GPIO.LOW or GPIO.HIGH\n",
    "\n",
    "GPIO.setwarnings(False)\n",
    "GPIO.setup(SW_UP_pin, GPIO.IN)\n",
    "GPIO.setup(SW_DOWN_pin, GPIO.IN)\n",
    "\n",
    "# if GPIO.input(SW_UP_pin):\n",
    "#     robot.down(1)\n",
    "# else:\n",
    "#     robot.vertical_motors_stop()\n",
    "    \n",
    "if GPIO.input(SW_DOWN_pin):\n",
    "    robot.up(1)\n",
    "else:\n",
    "    robot.vertical_motors_stop()\n",
    "    \n",
    "# GPIO.cleanup()"
   ]
  },
  {
   "cell_type": "markdown",
   "metadata": {},
   "source": [
    "### 모터/서보 성능 및 위치 기본 조정값 선언"
   ]
  },
  {
   "cell_type": "code",
   "execution_count": 13,
   "metadata": {},
   "outputs": [],
   "source": [
    "L_F_MPR = 0.93 # 좌측 전진 모터 성능 비율 (Left_forward_Motor_Performance_Ratio)\n",
    "R_F_MPR = 1.00 # 우측 전진 모터 성능 비율 (Right_forward_Motor_Performance_Ratio)\n",
    "\n",
    "L_B_MPR = 0.98 # 좌측 후진 모터 성능 비율 (Left_Backward_Motor_Performance_Ratio)\n",
    "R_B_MPR = 1.00 # 우측 후진 모터 성능 비율 (Right_Backward_Motor_Performance_Ratio)\n",
    "\n",
    "PAN_ADJ = 0 # 카메라 팬 서보 위치 조정값(Camera_Pan_Servo_Adjust)\n",
    "TILT_ADJ = 0 # 카메라 틸트 서보 위치 조정값(Camera_Tilt_Servo_Adjust)"
   ]
  },
  {
   "cell_type": "markdown",
   "metadata": {},
   "source": [
    "##### 모터/서보 성능 위치 및 조정정보 설정파일 읽기\n",
    "생략"
   ]
  },
  {
   "cell_type": "markdown",
   "metadata": {},
   "source": [
    "### PanTilt 서보 인스턴스 생성"
   ]
  },
  {
   "cell_type": "code",
   "execution_count": 14,
   "metadata": {},
   "outputs": [
    {
     "name": "stdout",
     "output_type": "stream",
     "text": [
      "serial Open!\n"
     ]
    }
   ],
   "source": [
    "import os\n",
    "\n",
    "os.system(\"sudo chmod 777 /dev/ttyTHS1\")\n",
    "\n",
    "from servoserial import ServoSerial\n",
    "pantilt = ServoSerial() # 팬틸트 서보 컨트롤"
   ]
  },
  {
   "cell_type": "markdown",
   "metadata": {},
   "source": [
    "##### PAN, TILT 값 정의"
   ]
  },
  {
   "cell_type": "code",
   "execution_count": 16,
   "metadata": {},
   "outputs": [],
   "source": [
    "MID_TILT = 3600\n",
    "# TILT 범위 3000~4095\n",
    "MID_PAN = 4095 // 2 + 100\n",
    "\n",
    "DEF_TILT = 4000"
   ]
  },
  {
   "cell_type": "markdown",
   "metadata": {},
   "source": [
    "### 초기 카메라 팬/틸트 위치 설정\n"
   ]
  },
  {
   "cell_type": "code",
   "execution_count": 20,
   "metadata": {},
   "outputs": [
    {
     "name": "stdout",
     "output_type": "stream",
     "text": [
      "47\n",
      "b'\\xff\\xff\\xfe\\x0e\\x83*\\x04\\x01\\x08c\\x00\\n\\x02\\x0b\\x86\\x00\\n/'\n",
      "162\n",
      "b'\\xff\\xff\\xfe\\x0e\\x83*\\x04\\x01\\x08c\\x00\\n\\x02\\x0e\\x10\\x00\\n\\xa2'\n",
      "17\n",
      "b'\\xff\\xff\\xfe\\x0e\\x83*\\x04\\x01\\x08c\\x00\\n\\x02\\x0f\\xa0\\x00\\n\\x11'\n"
     ]
    }
   ],
   "source": [
    "pantilt.Servo_serial_double_control(1, MID_PAN, 2, MID_TILT-600) # 장애물회피 주행용 팬틸트 위치\n",
    "time.sleep(1)\n",
    "\n",
    "pantilt.Servo_serial_double_control(1, MID_PAN, 2, MID_TILT) # 중앙정면 팬틸트 위치\n",
    "time.sleep(1)\n",
    "\n",
    "pantilt.Servo_serial_double_control(1, MID_PAN, 2, DEF_TILT) # 중앙상향 얼굴인식 팬틸트 위치\n",
    "time.sleep(1)"
   ]
  },
  {
   "cell_type": "markdown",
   "metadata": {},
   "source": [
    "### Robot 인스턴스는 위에서 생성했음"
   ]
  },
  {
   "cell_type": "markdown",
   "metadata": {},
   "source": [
    "##### Camera Lifter 테스트\n",
    "젯봇 전면의 카메라 높낮이를 조정하는 리프터 상하 이동 제어"
   ]
  },
  {
   "cell_type": "code",
   "execution_count": 22,
   "metadata": {},
   "outputs": [],
   "source": [
    "# robot.up(1.0)\n",
    "# time.sleep(3)\n",
    "# robot.vertical_motors_stop()\n",
    "\n",
    "# robot.down(1.0)\n",
    "# time.sleep(3)\n",
    "# robot.vertical_motors_stop()"
   ]
  },
  {
   "cell_type": "markdown",
   "metadata": {},
   "source": [
    "##### 기본 주행 속력과 주행 및 정지 함수 정의"
   ]
  },
  {
   "cell_type": "code",
   "execution_count": 26,
   "metadata": {},
   "outputs": [],
   "source": [
    "Speed = 0.7 ## 최대 속력의 70% 빠르기를 기본 속력으로 설정\n",
    "\n",
    "### 좌우 모터의 속력을 따로 지정하여 주행하기\n",
    "\n",
    "def Move2(speedLeft, speedRight):\n",
    "    if speedLeft > 0:\n",
    "        robot.left_motor.value = speedLeft * L_F_MPR # 전진 시 왼쪽 모터의 전진 성능 비율 적용\n",
    "    else:\n",
    "        robot.left_motor.value = speedLeft * L_B_MPR # 후진 시 왼쪽 모터의 후진 성능 비율 적용\n",
    "    \n",
    "    if speedRight > 0:\n",
    "        robot.right_motor.value = speedRight * R_F_MPR # 전진 시 오른쪽 모터의 전진 성능 비율 적용\n",
    "    else:\n",
    "        robot.right_motor.value = speedRight * R_B_MPR # 후진 시 오른쪽 모터의 후진 성능 비율 적용\n",
    "    \n",
    "### 좌우 모터의 속력을 동일하게 지정하여 주행하기\n",
    "\n",
    "def Move(speed):\n",
    "    Move2(speed, speed)\n",
    "    \n",
    "### 이동 정지\n",
    "def Stop():\n",
    "    robot.left_motor.value = 0\n",
    "    robot.right_motor.value = 0\n",
    "    \n"
   ]
  },
  {
   "cell_type": "markdown",
   "metadata": {},
   "source": [
    "##### MODE_PERSON 동작: 사람이 감지되면 반가워서 인사하는 동작\n",
    "사람이 마지막에 감지된 시각으로부터 특정 시간보다 더 지나서 다시 사람이 감지되면 동작됨"
   ]
  },
  {
   "cell_type": "code",
   "execution_count": 38,
   "metadata": {},
   "outputs": [],
   "source": [
    "ActTimePeriodPerson = 30 # 30초 이상 사람이 감지되지 않다가 다시 감지되면 동작\n",
    "LastTimeDetectedPerson = 0 # 가장 최근에 사람이 감지된 시각\n",
    "\n",
    "def ActModePerson(repeat=3):\n",
    "    speed = 3\n",
    "    delay = 0.02\n",
    "    \n",
    "    RGB.Set_BreathSColor_RGB(6) # Color: 0(red), 1(green), 2(blue), 3(yellow), 4(magenta), 5(cyan), 6(white)\n",
    "    RGB.Set_BreathSSpeed_RGB(3) # speed: 1(slow), 2(normal), 3(fast)\n",
    "    RGB.Set_BreathSLight_RGB()\n",
    "    \n",
    "    pantilt.Servo_serial_double_control(1, MID_PAN, 2, DEF_TILT) # 중앙상향 얼굴인식 팬틸트 위치\n",
    "    Beep(0.05)\n",
    "    \n",
    "    for i in range(0, repeat):\n",
    "        pantilt.Servo_serial_control(1, MID_PAN+200) # Left\n",
    "        Move2(-speed, speed)\n",
    "        time.sleep(delay)\n",
    "        pantilt.Servo_serial_control(1, MID_PAN+400)\n",
    "        Move2(-speed, speed)\n",
    "        time.sleep(delay)\n",
    "        pantilt.Servo_serial_control(1, MID_PAN+200) \n",
    "        Stop()\n",
    "        time.sleep(delay)\n",
    "        \n",
    "        pantilt.Servo_serial_control(1, MID_PAN-200) # Right\n",
    "        Move2(speed, -speed)\n",
    "        time.sleep(delay)\n",
    "        pantilt.Servo_serial_control(1, MID_PAN-400)\n",
    "        Move2(speed, -speed)\n",
    "        time.sleep(delay)\n",
    "        pantilt.Servo_serial_control(1, MID_PAN-200) \n",
    "        Stop()\n",
    "        time.sleep(delay)\n",
    "        \n",
    "        pantilt.Servo_serial_control(1, MID_PAN)\n",
    "        Stop()\n",
    "        time.sleep(delay)\n",
    "        \n",
    "    for i in range(0, 2):\n",
    "        pantilt.Servo_serial_control(2, DEF_TILT+100)\n",
    "        time.sleep(delay)\n",
    "        pantilt.Servo_serial_control(2, DEF_TILT+200)\n",
    "        time.sleep(delay)\n",
    "        pantilt.Servo_serial_control(2, DEF_TILT+100)\n",
    "        time.sleep(delay)\n",
    "        pantilt.Servo_serial_control(2, DEF_TILT)\n",
    "        time.sleep(delay)\n",
    "        pantilt.Servo_serial_control(2, DEF_TILT-200)\n",
    "        time.sleep(delay)\n",
    "        pantilt.Servo_serial_control(2, DEF_TILT)\n",
    "        time.sleep(delay)\n",
    "    \n",
    "    Beep(0.05)\n",
    "    time.sleep(0.1)\n",
    "    Beep(0.05)\n",
    "    \n",
    "    RGB.OFF_ALL_RGB() # 전체 LED 끄기\n",
    "    RGB.Set_All_RGB(0x00, 0x00, 0x10) # 기본 색상 어두운 파랑으로"
   ]
  },
  {
   "cell_type": "code",
   "execution_count": 40,
   "metadata": {},
   "outputs": [
    {
     "name": "stdout",
     "output_type": "stream",
     "text": [
      "17\n",
      "b'\\xff\\xff\\xfe\\x0e\\x83*\\x04\\x01\\x08c\\x00\\n\\x02\\x0f\\xa0\\x00\\n\\x11'\n",
      "140\n",
      "b'\\xff\\xff\\x01\\x07\\x03*\\t+\\x00\\n\\x8c'\n",
      "196\n",
      "b'\\xff\\xff\\x01\\x07\\x03*\\t\\xf3\\x00\\n\\xc4'\n",
      "140\n",
      "b'\\xff\\xff\\x01\\x07\\x03*\\t+\\x00\\n\\x8c'\n",
      "30\n",
      "b'\\xff\\xff\\x01\\x07\\x03*\\x07\\x9b\\x00\\n\\x1e'\n",
      "231\n",
      "b'\\xff\\xff\\x01\\x07\\x03*\\x06\\xd3\\x00\\n\\xe7'\n",
      "30\n",
      "b'\\xff\\xff\\x01\\x07\\x03*\\x07\\x9b\\x00\\n\\x1e'\n",
      "85\n",
      "b'\\xff\\xff\\x01\\x07\\x03*\\x08c\\x00\\nU'\n",
      "140\n",
      "b'\\xff\\xff\\x01\\x07\\x03*\\t+\\x00\\n\\x8c'\n",
      "196\n",
      "b'\\xff\\xff\\x01\\x07\\x03*\\t\\xf3\\x00\\n\\xc4'\n",
      "140\n",
      "b'\\xff\\xff\\x01\\x07\\x03*\\t+\\x00\\n\\x8c'\n",
      "30\n",
      "b'\\xff\\xff\\x01\\x07\\x03*\\x07\\x9b\\x00\\n\\x1e'\n",
      "231\n",
      "b'\\xff\\xff\\x01\\x07\\x03*\\x06\\xd3\\x00\\n\\xe7'\n",
      "30\n",
      "b'\\xff\\xff\\x01\\x07\\x03*\\x07\\x9b\\x00\\n\\x1e'\n",
      "85\n",
      "b'\\xff\\xff\\x01\\x07\\x03*\\x08c\\x00\\nU'\n",
      "140\n",
      "b'\\xff\\xff\\x01\\x07\\x03*\\t+\\x00\\n\\x8c'\n",
      "196\n",
      "b'\\xff\\xff\\x01\\x07\\x03*\\t\\xf3\\x00\\n\\xc4'\n",
      "140\n",
      "b'\\xff\\xff\\x01\\x07\\x03*\\t+\\x00\\n\\x8c'\n",
      "30\n",
      "b'\\xff\\xff\\x01\\x07\\x03*\\x07\\x9b\\x00\\n\\x1e'\n",
      "231\n",
      "b'\\xff\\xff\\x01\\x07\\x03*\\x06\\xd3\\x00\\n\\xe7'\n",
      "30\n",
      "b'\\xff\\xff\\x01\\x07\\x03*\\x07\\x9b\\x00\\n\\x1e'\n",
      "85\n",
      "b'\\xff\\xff\\x01\\x07\\x03*\\x08c\\x00\\nU'\n",
      "177\n",
      "b'\\xff\\xff\\x02\\x07\\x03*\\x0f\\xff\\x00\\n\\xb1'\n",
      "177\n",
      "b'\\xff\\xff\\x02\\x07\\x03*\\x0f\\xff\\x00\\n\\xb1'\n",
      "177\n",
      "b'\\xff\\xff\\x02\\x07\\x03*\\x0f\\xff\\x00\\n\\xb1'\n",
      "16\n",
      "b'\\xff\\xff\\x02\\x07\\x03*\\x0f\\xa0\\x00\\n\\x10'\n",
      "217\n",
      "b'\\xff\\xff\\x02\\x07\\x03*\\x0e\\xd8\\x00\\n\\xd9'\n",
      "16\n",
      "b'\\xff\\xff\\x02\\x07\\x03*\\x0f\\xa0\\x00\\n\\x10'\n",
      "177\n",
      "b'\\xff\\xff\\x02\\x07\\x03*\\x0f\\xff\\x00\\n\\xb1'\n",
      "177\n",
      "b'\\xff\\xff\\x02\\x07\\x03*\\x0f\\xff\\x00\\n\\xb1'\n",
      "177\n",
      "b'\\xff\\xff\\x02\\x07\\x03*\\x0f\\xff\\x00\\n\\xb1'\n",
      "16\n",
      "b'\\xff\\xff\\x02\\x07\\x03*\\x0f\\xa0\\x00\\n\\x10'\n",
      "217\n",
      "b'\\xff\\xff\\x02\\x07\\x03*\\x0e\\xd8\\x00\\n\\xd9'\n",
      "16\n",
      "b'\\xff\\xff\\x02\\x07\\x03*\\x0f\\xa0\\x00\\n\\x10'\n"
     ]
    }
   ],
   "source": [
    "ActModePerson()"
   ]
  },
  {
   "cell_type": "markdown",
   "metadata": {},
   "source": [
    "##### ActModeFruit: 과일 먹는 동작"
   ]
  },
  {
   "cell_type": "code",
   "execution_count": 55,
   "metadata": {},
   "outputs": [],
   "source": [
    "ActTimePeriodFruit = 30 # 30초 이상 컵이 감지되지 않다가 다시 감지되면 동작\n",
    "LastTimeDetectedFruit = 0 # 가장 최근에 컵이 감지된 시각\n",
    "\n",
    "def ActModeFruit(repeat = 2):\n",
    "    speed = 0.4\n",
    "    delay = 0.05\n",
    "    \n",
    "    RGB.Set_BreathSColor_RGB(1) # Color : 0(red), 1(green), 2(blue), 3(yellow), 4(magenta), 5(cyan), 6(white)\n",
    "    RGB.Set_BreathSSpeed_RGB(3) # speed : 1(slow), 2(normal), 3(fast)\n",
    "    RGB.Set_BreathSLight_RGB()\n",
    "    \n",
    "    pantilt.Servo_serial_double_control(1, MID_PAN, 2, DEF_TILT)\n",
    "    \n",
    "    for i in range(0, repeat):\n",
    "        pantilt.Servo_serial_control(2, DEF_TILT-100) # down\n",
    "        Move2(-speed, speed)\n",
    "        time.sleep(delay)\n",
    "        pantilt.Servo_serial_control(2, DEF_TILT-200) # down\n",
    "        Move2(speed, -speed)\n",
    "        time.sleep(delay)\n",
    "        pantilt.Servo_serial_control(2, DEF_TILT-300) # down\n",
    "        Move2(-speed, speed)\n",
    "        time.sleep(delay)\n",
    "        pantilt.Servo_serial_control(2, DEF_TILT-400) # down\n",
    "        Move2(speed, -speed)\n",
    "        time.sleep(delay)\n",
    "        Stop()\n",
    "        \n",
    "        # 고개 숙이는 동작\n",
    "        pantilt.Servo_serial_double_control(1, MID_PAN-50, 2, DEF_TILT-500) \n",
    "        time.sleep(delay)\n",
    "        pantilt.Servo_serial_double_control(1, MID_PAN, 2, DEF_TILT-300) \n",
    "        time.sleep(delay)\n",
    "        pantilt.Servo_serial_double_control(1, MID_PAN+50, 2, DEF_TILT-500) \n",
    "        time.sleep(delay)\n",
    "        pantilt.Servo_serial_double_control(1, MID_PAN, 2, DEF_TILT-300) \n",
    "        time.sleep(delay)\n",
    "        \n",
    "        pantilt.Servo_serial_double_control(1, MID_PAN-50, 2, DEF_TILT-500)\n",
    "        Move2(speed, speed)\n",
    "        time.sleep(delay)\n",
    "        pantilt.Servo_serial_double_control(1, MID_PAN, 2, DEF_TILT-500)\n",
    "        Move2(-speed, -speed)\n",
    "        time.sleep(delay)\n",
    "        pantilt.Servo_serial_double_control(1, MID_PAN+50, 2, DEF_TILT-500)\n",
    "        Move2(speed, speed)\n",
    "        time.sleep(delay)\n",
    "        pantilt.Servo_serial_double_control(1, MID_PAN, 2, DEF_TILT-500)\n",
    "        Move2(-speed, -speed)\n",
    "        time.sleep(delay)\n",
    "        pantilt.Servo_serial_double_control(1, MID_PAN-50, 2, DEF_TILT-500)\n",
    "        Stop()\n",
    "        time.sleep(delay)\n",
    "        \n",
    "        pantilt.Servo_serial_double_control(1, MID_PAN, 2, DEF_TILT-300) \n",
    "        time.sleep(delay)\n",
    "        pantilt.Servo_serial_double_control(1, MID_PAN+50, 2, DEF_TILT-500) \n",
    "        time.sleep(delay)\n",
    "        pantilt.Servo_serial_double_control(1, MID_PAN, 2, DEF_TILT-300) \n",
    "        time.sleep(delay)\n",
    "        \n",
    "        pantilt.Servo_serial_control(2, DEF_TILT-400)\n",
    "        time.sleep(delay)\n",
    "        pantilt.Servo_serial_control(2, DEF_TILT-300)\n",
    "        time.sleep(delay)\n",
    "        pantilt.Servo_serial_control(2, DEF_TILT-200)\n",
    "        time.sleep(delay)\n",
    "        pantilt.Servo_serial_control(2, DEF_TILT-100)\n",
    "        time.sleep(delay)\n",
    "        \n",
    "        pantilt.Servo_serial_control(2, DEF_TILT)\n",
    "        time.sleep(delay)\n",
    "        \n",
    "        # 고개 들어올림\n",
    "        pantilt.Servo_serial_control(1, MID_PAN+100) # left\n",
    "        time.sleep(delay)\n",
    "        pantilt.Servo_serial_control(1, MID_PAN+200)\n",
    "        time.sleep(delay)\n",
    "        pantilt.Servo_serial_control(1, MID_PAN+100)\n",
    "        time.sleep(delay)\n",
    "        \n",
    "        pantilt.Servo_serial_control(1, MID_PAN-100) # right\n",
    "        time.sleep(delay)\n",
    "        pantilt.Servo_serial_control(1, MID_PAN-200) \n",
    "        time.sleep(delay)\n",
    "        pantilt.Servo_serial_control(1, MID_PAN-100) \n",
    "        time.sleep(delay)\n",
    "        \n",
    "        pantilt.Servo_serial_control(1, MID_PAN)\n",
    "        \n",
    "        RGB.OFF_ALL_RGB() # 전체 LED 끄기\n",
    "        RGB.Set_All_RGB(0x00, 0x00, 0x10) # 기본 색상으로 켜기(어두운 파랑)"
   ]
  },
  {
   "cell_type": "code",
   "execution_count": 56,
   "metadata": {},
   "outputs": [
    {
     "name": "stdout",
     "output_type": "stream",
     "text": [
      "17\n",
      "b'\\xff\\xff\\xfe\\x0e\\x83*\\x04\\x01\\x08c\\x00\\n\\x02\\x0f\\xa0\\x00\\n\\x11'\n",
      "116\n",
      "b'\\xff\\xff\\x02\\x07\\x03*\\x0f<\\x00\\nt'\n",
      "217\n",
      "b'\\xff\\xff\\x02\\x07\\x03*\\x0e\\xd8\\x00\\n\\xd9'\n",
      "61\n",
      "b'\\xff\\xff\\x02\\x07\\x03*\\x0et\\x00\\n='\n",
      "161\n",
      "b'\\xff\\xff\\x02\\x07\\x03*\\x0e\\x10\\x00\\n\\xa1'\n",
      "57\n",
      "b'\\xff\\xff\\xfe\\x0e\\x83*\\x04\\x01\\x081\\x00\\n\\x02\\r\\xac\\x00\\n9'\n",
      "62\n",
      "b'\\xff\\xff\\xfe\\x0e\\x83*\\x04\\x01\\x08c\\x00\\n\\x02\\x0et\\x00\\n>'\n",
      "213\n",
      "b'\\xff\\xff\\xfe\\x0e\\x83*\\x04\\x01\\x08\\x95\\x00\\n\\x02\\r\\xac\\x00\\n\\xd5'\n",
      "62\n",
      "b'\\xff\\xff\\xfe\\x0e\\x83*\\x04\\x01\\x08c\\x00\\n\\x02\\x0et\\x00\\n>'\n",
      "57\n",
      "b'\\xff\\xff\\xfe\\x0e\\x83*\\x04\\x01\\x081\\x00\\n\\x02\\r\\xac\\x00\\n9'\n",
      "7\n",
      "b'\\xff\\xff\\xfe\\x0e\\x83*\\x04\\x01\\x08c\\x00\\n\\x02\\r\\xac\\x00\\n\\x07'\n",
      "213\n",
      "b'\\xff\\xff\\xfe\\x0e\\x83*\\x04\\x01\\x08\\x95\\x00\\n\\x02\\r\\xac\\x00\\n\\xd5'\n",
      "7\n",
      "b'\\xff\\xff\\xfe\\x0e\\x83*\\x04\\x01\\x08c\\x00\\n\\x02\\r\\xac\\x00\\n\\x07'\n",
      "57\n",
      "b'\\xff\\xff\\xfe\\x0e\\x83*\\x04\\x01\\x081\\x00\\n\\x02\\r\\xac\\x00\\n9'\n",
      "62\n",
      "b'\\xff\\xff\\xfe\\x0e\\x83*\\x04\\x01\\x08c\\x00\\n\\x02\\x0et\\x00\\n>'\n",
      "213\n",
      "b'\\xff\\xff\\xfe\\x0e\\x83*\\x04\\x01\\x08\\x95\\x00\\n\\x02\\r\\xac\\x00\\n\\xd5'\n",
      "62\n",
      "b'\\xff\\xff\\xfe\\x0e\\x83*\\x04\\x01\\x08c\\x00\\n\\x02\\x0et\\x00\\n>'\n",
      "161\n",
      "b'\\xff\\xff\\x02\\x07\\x03*\\x0e\\x10\\x00\\n\\xa1'\n",
      "61\n",
      "b'\\xff\\xff\\x02\\x07\\x03*\\x0et\\x00\\n='\n",
      "217\n",
      "b'\\xff\\xff\\x02\\x07\\x03*\\x0e\\xd8\\x00\\n\\xd9'\n",
      "116\n",
      "b'\\xff\\xff\\x02\\x07\\x03*\\x0f<\\x00\\nt'\n",
      "16\n",
      "b'\\xff\\xff\\x02\\x07\\x03*\\x0f\\xa0\\x00\\n\\x10'\n",
      "241\n",
      "b'\\xff\\xff\\x01\\x07\\x03*\\x08\\xc7\\x00\\n\\xf1'\n",
      "140\n",
      "b'\\xff\\xff\\x01\\x07\\x03*\\t+\\x00\\n\\x8c'\n",
      "241\n",
      "b'\\xff\\xff\\x01\\x07\\x03*\\x08\\xc7\\x00\\n\\xf1'\n",
      "186\n",
      "b'\\xff\\xff\\x01\\x07\\x03*\\x07\\xff\\x00\\n\\xba'\n",
      "30\n",
      "b'\\xff\\xff\\x01\\x07\\x03*\\x07\\x9b\\x00\\n\\x1e'\n",
      "186\n",
      "b'\\xff\\xff\\x01\\x07\\x03*\\x07\\xff\\x00\\n\\xba'\n",
      "85\n",
      "b'\\xff\\xff\\x01\\x07\\x03*\\x08c\\x00\\nU'\n",
      "116\n",
      "b'\\xff\\xff\\x02\\x07\\x03*\\x0f<\\x00\\nt'\n",
      "217\n",
      "b'\\xff\\xff\\x02\\x07\\x03*\\x0e\\xd8\\x00\\n\\xd9'\n",
      "61\n",
      "b'\\xff\\xff\\x02\\x07\\x03*\\x0et\\x00\\n='\n",
      "161\n",
      "b'\\xff\\xff\\x02\\x07\\x03*\\x0e\\x10\\x00\\n\\xa1'\n",
      "57\n",
      "b'\\xff\\xff\\xfe\\x0e\\x83*\\x04\\x01\\x081\\x00\\n\\x02\\r\\xac\\x00\\n9'\n",
      "62\n",
      "b'\\xff\\xff\\xfe\\x0e\\x83*\\x04\\x01\\x08c\\x00\\n\\x02\\x0et\\x00\\n>'\n",
      "213\n",
      "b'\\xff\\xff\\xfe\\x0e\\x83*\\x04\\x01\\x08\\x95\\x00\\n\\x02\\r\\xac\\x00\\n\\xd5'\n",
      "62\n",
      "b'\\xff\\xff\\xfe\\x0e\\x83*\\x04\\x01\\x08c\\x00\\n\\x02\\x0et\\x00\\n>'\n",
      "57\n",
      "b'\\xff\\xff\\xfe\\x0e\\x83*\\x04\\x01\\x081\\x00\\n\\x02\\r\\xac\\x00\\n9'\n",
      "7\n",
      "b'\\xff\\xff\\xfe\\x0e\\x83*\\x04\\x01\\x08c\\x00\\n\\x02\\r\\xac\\x00\\n\\x07'\n",
      "213\n",
      "b'\\xff\\xff\\xfe\\x0e\\x83*\\x04\\x01\\x08\\x95\\x00\\n\\x02\\r\\xac\\x00\\n\\xd5'\n",
      "7\n",
      "b'\\xff\\xff\\xfe\\x0e\\x83*\\x04\\x01\\x08c\\x00\\n\\x02\\r\\xac\\x00\\n\\x07'\n",
      "57\n",
      "b'\\xff\\xff\\xfe\\x0e\\x83*\\x04\\x01\\x081\\x00\\n\\x02\\r\\xac\\x00\\n9'\n",
      "62\n",
      "b'\\xff\\xff\\xfe\\x0e\\x83*\\x04\\x01\\x08c\\x00\\n\\x02\\x0et\\x00\\n>'\n",
      "213\n",
      "b'\\xff\\xff\\xfe\\x0e\\x83*\\x04\\x01\\x08\\x95\\x00\\n\\x02\\r\\xac\\x00\\n\\xd5'\n",
      "62\n",
      "b'\\xff\\xff\\xfe\\x0e\\x83*\\x04\\x01\\x08c\\x00\\n\\x02\\x0et\\x00\\n>'\n",
      "161\n",
      "b'\\xff\\xff\\x02\\x07\\x03*\\x0e\\x10\\x00\\n\\xa1'\n",
      "61\n",
      "b'\\xff\\xff\\x02\\x07\\x03*\\x0et\\x00\\n='\n",
      "217\n",
      "b'\\xff\\xff\\x02\\x07\\x03*\\x0e\\xd8\\x00\\n\\xd9'\n",
      "116\n",
      "b'\\xff\\xff\\x02\\x07\\x03*\\x0f<\\x00\\nt'\n",
      "16\n",
      "b'\\xff\\xff\\x02\\x07\\x03*\\x0f\\xa0\\x00\\n\\x10'\n",
      "241\n",
      "b'\\xff\\xff\\x01\\x07\\x03*\\x08\\xc7\\x00\\n\\xf1'\n",
      "140\n",
      "b'\\xff\\xff\\x01\\x07\\x03*\\t+\\x00\\n\\x8c'\n",
      "241\n",
      "b'\\xff\\xff\\x01\\x07\\x03*\\x08\\xc7\\x00\\n\\xf1'\n",
      "186\n",
      "b'\\xff\\xff\\x01\\x07\\x03*\\x07\\xff\\x00\\n\\xba'\n",
      "30\n",
      "b'\\xff\\xff\\x01\\x07\\x03*\\x07\\x9b\\x00\\n\\x1e'\n",
      "186\n",
      "b'\\xff\\xff\\x01\\x07\\x03*\\x07\\xff\\x00\\n\\xba'\n",
      "85\n",
      "b'\\xff\\xff\\x01\\x07\\x03*\\x08c\\x00\\nU'\n"
     ]
    }
   ],
   "source": [
    "ActModeFruit()"
   ]
  },
  {
   "cell_type": "code",
   "execution_count": null,
   "metadata": {},
   "outputs": [],
   "source": []
  }
 ],
 "metadata": {
  "kernelspec": {
   "display_name": "Python 3",
   "language": "python",
   "name": "python3"
  },
  "language_info": {
   "codemirror_mode": {
    "name": "ipython",
    "version": 3
   },
   "file_extension": ".py",
   "mimetype": "text/x-python",
   "name": "python",
   "nbconvert_exporter": "python",
   "pygments_lexer": "ipython3",
   "version": "3.6.9"
  }
 },
 "nbformat": 4,
 "nbformat_minor": 4
}
