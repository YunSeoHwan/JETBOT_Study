{
 "cells": [
  {
   "cell_type": "code",
   "execution_count": 1,
   "metadata": {},
   "outputs": [],
   "source": [
    "from jetbot import ObjectDetector\n",
    "\n",
    "model = ObjectDetector('ssd_mobilenet_v2_coco.engine')"
   ]
  },
  {
   "cell_type": "code",
   "execution_count": 2,
   "metadata": {},
   "outputs": [],
   "source": [
    "from jetbot import Camera\n",
    "\n",
    "#camera = Camera.instance(width=224, height=224, fps=10)\n",
    "camera = Camera.instance(width=300, height=300)"
   ]
  },
  {
   "cell_type": "code",
   "execution_count": 3,
   "metadata": {},
   "outputs": [
    {
     "name": "stdout",
     "output_type": "stream",
     "text": [
      "[[{'label': 1, 'confidence': 0.9318356513977051, 'bbox': [0.029408514499664307, 0.001377791166305542, 1.0, 0.9953093528747559]}]]\n"
     ]
    }
   ],
   "source": [
    "# 카메라 영상으로부터 객체를 검출하고 검출된 객체의 내용을 출력하는 코드\n",
    "detections = model(camera.value)\n",
    "print(detections)"
   ]
  },
  {
   "cell_type": "code",
   "execution_count": 4,
   "metadata": {},
   "outputs": [
    {
     "data": {
      "application/vnd.jupyter.widget-view+json": {
       "model_id": "23fa9f8543da4250869be8a3f87c5f51",
       "version_major": 2,
       "version_minor": 0
      },
      "text/plain": [
       "Image(value=b'', format='jpeg', height='300', width='300')"
      ]
     },
     "metadata": {},
     "output_type": "display_data"
    }
   ],
   "source": [
    "import ipywidgets.widgets as widgets\n",
    "import cv2\n",
    "from jetbot import bgr8_to_jpeg\n",
    "\n",
    "camera_image = widgets.Image(format='jpeg', width=300, height=300) # 프리뷰 화면은 300x300 픽셀 크기로\n",
    "display(camera_image)"
   ]
  },
  {
   "cell_type": "code",
   "execution_count": 13,
   "metadata": {},
   "outputs": [
    {
     "name": "stdout",
     "output_type": "stream",
     "text": [
      "65\n",
      "62\n",
      "82\n",
      "1\n",
      "44\n",
      "1\n",
      "77\n",
      "88\n",
      "77\n",
      "88\n",
      "77\n",
      "88\n",
      "77\n",
      "61\n",
      "77\n",
      "88\n",
      "1\n",
      "62\n",
      "65\n",
      "62\n",
      "62\n",
      "65\n",
      "62\n",
      "1\n",
      "1\n",
      "62\n",
      "1\n",
      "1\n",
      "44\n",
      "90\n",
      "44\n",
      "90\n",
      "44\n",
      "90\n",
      "44\n",
      "44\n",
      "1\n",
      "1\n",
      "1\n",
      "62\n",
      "1\n",
      "1\n",
      "1\n",
      "1\n"
     ]
    },
    {
     "ename": "KeyboardInterrupt",
     "evalue": "",
     "output_type": "error",
     "traceback": [
      "\u001b[0;31m---------------------------------------------------------------------------\u001b[0m",
      "\u001b[0;31mKeyboardInterrupt\u001b[0m                         Traceback (most recent call last)",
      "\u001b[0;32m<ipython-input-13-91753c56468a>\u001b[0m in \u001b[0;36m<module>\u001b[0;34m\u001b[0m\n\u001b[1;32m     38\u001b[0m     \u001b[0;31m# 카메라 이미지에 검출된 물체 주위에 네모박스 그리고 출력\u001b[0m\u001b[0;34m\u001b[0m\u001b[0;34m\u001b[0m\u001b[0;34m\u001b[0m\u001b[0m\n\u001b[1;32m     39\u001b[0m     \u001b[0mframe_with_boxes\u001b[0m \u001b[0;34m=\u001b[0m \u001b[0mdetection_frame\u001b[0m\u001b[0;34m(\u001b[0m\u001b[0mimg\u001b[0m\u001b[0;34m,\u001b[0m \u001b[0mdetections\u001b[0m\u001b[0;34m)\u001b[0m\u001b[0;34m\u001b[0m\u001b[0;34m\u001b[0m\u001b[0m\n\u001b[0;32m---> 40\u001b[0;31m     \u001b[0mcamera_image\u001b[0m\u001b[0;34m.\u001b[0m\u001b[0mvalue\u001b[0m \u001b[0;34m=\u001b[0m \u001b[0mbgr8_to_jpeg\u001b[0m\u001b[0;34m(\u001b[0m\u001b[0mframe_with_boxes\u001b[0m\u001b[0;34m)\u001b[0m\u001b[0;34m\u001b[0m\u001b[0;34m\u001b[0m\u001b[0m\n\u001b[0m",
      "\u001b[0;32m/usr/local/lib/python3.6/dist-packages/jetbot-0.3.0-py3.6.egg/jetbot/image.py\u001b[0m in \u001b[0;36mbgr8_to_jpeg\u001b[0;34m(value, quality)\u001b[0m\n\u001b[1;32m      4\u001b[0m \u001b[0;34m\u001b[0m\u001b[0m\n\u001b[1;32m      5\u001b[0m \u001b[0;32mdef\u001b[0m \u001b[0mbgr8_to_jpeg\u001b[0m\u001b[0;34m(\u001b[0m\u001b[0mvalue\u001b[0m\u001b[0;34m,\u001b[0m \u001b[0mquality\u001b[0m\u001b[0;34m=\u001b[0m\u001b[0;36m75\u001b[0m\u001b[0;34m)\u001b[0m\u001b[0;34m:\u001b[0m\u001b[0;34m\u001b[0m\u001b[0;34m\u001b[0m\u001b[0m\n\u001b[0;32m----> 6\u001b[0;31m     \u001b[0;32mreturn\u001b[0m \u001b[0mbytes\u001b[0m\u001b[0;34m(\u001b[0m\u001b[0mcv2\u001b[0m\u001b[0;34m.\u001b[0m\u001b[0mimencode\u001b[0m\u001b[0;34m(\u001b[0m\u001b[0;34m'.jpg'\u001b[0m\u001b[0;34m,\u001b[0m \u001b[0mvalue\u001b[0m\u001b[0;34m)\u001b[0m\u001b[0;34m[\u001b[0m\u001b[0;36m1\u001b[0m\u001b[0;34m]\u001b[0m\u001b[0;34m)\u001b[0m\u001b[0;34m\u001b[0m\u001b[0;34m\u001b[0m\u001b[0m\n\u001b[0m",
      "\u001b[0;31mKeyboardInterrupt\u001b[0m: "
     ]
    }
   ],
   "source": [
    "import time\n",
    "\n",
    "lastDetected = 0 # 마지막으로 검출된 객체 인덱스, 처음에는 0\n",
    "lastTime = time.time() # 현재 시간\n",
    "\n",
    "\n",
    "def detection_frame(image, detections):\n",
    "    frame = image.copy()\n",
    "\n",
    "    # 네모박스 그리기\n",
    "    for det in detections[0]:\n",
    "        xmin, ymin, xmax, ymax = list(map(int, det['bbox']))\n",
    "        cv2.rectangle(frame, (xmin, ymin), (xmax, ymax), (0, 255, 0), 2)\n",
    "\n",
    "    return frame\n",
    "\n",
    "while True:\n",
    "    img = camera.value\n",
    "    detections = model(camera.value)\n",
    "\n",
    "    #print(lastDetected) # 참고용, 검출 내용을 확인\n",
    "    \n",
    "    if str(detections) == '[[]]' : # 검출된 내용이 없으면 다시 검출\n",
    "        continue\n",
    "    firstObject = detections[0][0] # 검출 내용에서 첫번째 이미지의 첫번째 객체만 사용\n",
    "    objectIndex = firstObject.get('label') # 객체 label 값, 즉 객체 인덱스\n",
    "    \n",
    "    # 객체 이름 출력\n",
    "    \n",
    "    if objectIndex == lastDetected: # 이전 검출된 객체와 동일한 종류인 경우\n",
    "        if time.time() - lastTime > 5 : # 5초마다 1번씩만 객체 인덱스를 프린트\n",
    "            lastTime = time.time()\n",
    "            print(objectIndex)\n",
    "    else: # 검출된 객체가 다른 종류로 바뀐 경우는 객체 인덱스를 즉시 프린트\n",
    "        lastDetected = objectIndex\n",
    "        print(objectIndex)\n",
    "    \n",
    "    # 카메라 이미지에 검출된 물체 주위에 네모박스 그리고 출력\n",
    "    frame_with_boxes = detection_frame(img, detections)\n",
    "    camera_image.value = bgr8_to_jpeg(frame_with_boxes)"
   ]
  },
  {
   "cell_type": "code",
   "execution_count": null,
   "metadata": {},
   "outputs": [],
   "source": []
  }
 ],
 "metadata": {
  "kernelspec": {
   "display_name": "Python 3",
   "language": "python",
   "name": "python3"
  },
  "language_info": {
   "codemirror_mode": {
    "name": "ipython",
    "version": 3
   },
   "file_extension": ".py",
   "mimetype": "text/x-python",
   "name": "python",
   "nbconvert_exporter": "python",
   "pygments_lexer": "ipython3",
   "version": "3.6.9"
  }
 },
 "nbformat": 4,
 "nbformat_minor": 4
}
